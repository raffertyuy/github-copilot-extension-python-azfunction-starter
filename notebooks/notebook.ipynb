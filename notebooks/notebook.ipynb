{
 "cells": [
  {
   "cell_type": "markdown",
   "metadata": {},
   "source": [
    "## Load Sample Data"
   ]
  },
  {
   "cell_type": "code",
   "execution_count": 12,
   "metadata": {},
   "outputs": [
    {
     "name": "stdout",
     "output_type": "stream",
     "text": [
      "{'copilot_thread_id': 'b642f692-530e-43bb-8021-e253aa40e4b1', 'messages': [{'role': 'user', 'content': 'good morning', 'copilot_confirmation': None, 'copilot_references': None, 'copilot_errors': None}, {'role': 'assistant', 'content': 'Hello, user! You said: \"good morning\"', 'copilot_confirmation': None, 'copilot_references': None, 'copilot_errors': None}, {'role': 'user', 'content': 'Are you a parrot?', 'copilot_confirmation': None, 'copilot_references': None, 'copilot_errors': None}, {'role': 'assistant', 'content': 'Hello, user! You said: \"Are you a parrot?\"', 'copilot_confirmation': None, 'copilot_references': None, 'copilot_errors': None}, {'role': 'user', 'content': 'This is my last message', 'copilot_confirmation': None, 'copilot_references': None, 'copilot_errors': None}], 'agent': ''}\n"
     ]
    }
   ],
   "source": [
    "import json\n",
    "\n",
    "with open('sample_payload.json') as f:\n",
    "    payload = json.load(f)\n",
    "\n",
    "print(payload)"
   ]
  },
  {
   "cell_type": "markdown",
   "metadata": {},
   "source": [
    "## Implement Helper Functions\n",
    "These functions are node.json to python conversions from https://github.com/copilot-extensions/preview-sdk.js/blob/main/lib/response.js\n",
    "as of 2024-10-21 using GitHub Copilot"
   ]
  },
  {
   "cell_type": "code",
   "execution_count": 13,
   "metadata": {},
   "outputs": [],
   "source": [
    "import json\n",
    "\n",
    "def create_ack_event():\n",
    "    return create_text_event(\"\")\n",
    "\n",
    "def create_text_event(message):\n",
    "    data = {\n",
    "        \"choices\": [\n",
    "            {\n",
    "                \"index\": 0,\n",
    "                \"delta\": {\"content\": message, \"role\": \"assistant\"},\n",
    "            },\n",
    "        ],\n",
    "    }\n",
    "    return f\"data: {json.dumps(data)}\\n\\n\"\n",
    "\n",
    "def create_confirmation_event(id, title, message, metadata):\n",
    "    event = \"copilot_confirmation\"\n",
    "    data = {\n",
    "        \"type\": \"action\",\n",
    "        \"title\": title,\n",
    "        \"message\": message,\n",
    "        \"confirmation\": {\"id\": id, **metadata},\n",
    "    }\n",
    "    return f\"event: {event}\\ndata: {json.dumps(data)}\\n\\n\"\n",
    "\n",
    "def create_references_event(references):\n",
    "    event = \"copilot_references\"\n",
    "    data = references\n",
    "    return f\"event: {event}\\ndata: {json.dumps(data)}\\n\\n\"\n",
    "\n",
    "def create_errors_event(errors):\n",
    "    event = \"copilot_errors\"\n",
    "    data = errors\n",
    "    return f\"event: {event}\\ndata: {json.dumps(data)}\\n\\n\"\n",
    "\n",
    "def create_done_event():\n",
    "    data = {\n",
    "        \"choices\": [\n",
    "            {\n",
    "                \"index\": 0,\n",
    "                \"finish_reason\": \"stop\",\n",
    "                \"delta\": {\"content\": None},\n",
    "            },\n",
    "        ],\n",
    "    }\n",
    "    return f\"data: {json.dumps(data)}\\n\\ndata: [DONE]\\n\\n\""
   ]
  },
  {
   "cell_type": "markdown",
   "metadata": {},
   "source": [
    "## Main Implementation Code"
   ]
  },
  {
   "cell_type": "code",
   "execution_count": 14,
   "metadata": {},
   "outputs": [],
   "source": [
    "username = \"raynor\""
   ]
  },
  {
   "cell_type": "code",
   "execution_count": 21,
   "metadata": {},
   "outputs": [
    {
     "name": "stdout",
     "output_type": "stream",
     "text": [
      "Response: Hello, raynor! You said: \"This is my last message\"\n",
      "{\"body\": \"data: {\\\"choices\\\": [{\\\"index\\\": 0, \\\"delta\\\": {\\\"content\\\": \\\"Hello, raynor! You said: \\\\\\\"This is my last message\\\\\\\"\\\", \\\"role\\\": \\\"assistant\\\"}}]}\\n\\ndata: {\\\"choices\\\": [{\\\"index\\\": 0, \\\"finish_reason\\\": \\\"stop\\\", \\\"delta\\\": {\\\"content\\\": null}}]}\\n\\ndata: [DONE]\\n\\n\"}\n"
     ]
    }
   ],
   "source": [
    "\n",
    "messages = payload.get(\"messages\", [])\n",
    "last_message = messages[-1][\"content\"] if messages else \"\"\n",
    "\n",
    "new_message = f\"Hello, {username}! You said: \\\"{last_message}\\\"\"\n",
    "print(\"Response:\", new_message)\n",
    "\n",
    "response = {\n",
    "    \"body\": create_text_event(new_message) + create_done_event()\n",
    "}\n",
    "\n",
    "response_json = json.dumps(response)\n",
    "print(response_json)"
   ]
  }
 ],
 "metadata": {
  "kernelspec": {
   "display_name": ".venv",
   "language": "python",
   "name": "python3"
  },
  "language_info": {
   "codemirror_mode": {
    "name": "ipython",
    "version": 3
   },
   "file_extension": ".py",
   "mimetype": "text/x-python",
   "name": "python",
   "nbconvert_exporter": "python",
   "pygments_lexer": "ipython3",
   "version": "3.11.9"
  }
 },
 "nbformat": 4,
 "nbformat_minor": 2
}
